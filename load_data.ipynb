{
 "cells": [
  {
   "cell_type": "code",
   "execution_count": 222,
   "metadata": {},
   "outputs": [],
   "source": [
    "import pandas as pd\n",
    "import glob\n",
    "import numpy as np"
   ]
  },
  {
   "cell_type": "code",
   "execution_count": 223,
   "metadata": {},
   "outputs": [],
   "source": [
    "all_csv = glob.glob('C:/Users/carap/OneDrive/Desktop/data/query_stocks/*')"
   ]
  },
  {
   "cell_type": "code",
   "execution_count": 234,
   "metadata": {},
   "outputs": [
    {
     "name": "stdout",
     "output_type": "stream",
     "text": [
      "3/4 to go\n",
      "metà strada\n"
     ]
    }
   ],
   "source": [
    "prices = pd.DataFrame()\n",
    "for i,file in enumerate(all_csv):\n",
    "    history_price = pd.read_csv(file)\n",
    "    history_price.index = [history_price[\"Date\"]]\n",
    "    name  = history_price.Name.unique()\n",
    "    price = pd.DataFrame(history_price[\"Close\"])\n",
    "    price.columns = name\n",
    "    prices = pd.concat((prices, price), axis = 1)\n",
    "    if i == int(len(all_csv)/4):\n",
    "        print(\"3/4 to go\")\n",
    "    elif i == int(len(all_csv)/2):\n",
    "        print(\"metà strada\")"
   ]
  },
  {
   "cell_type": "code",
   "execution_count": 236,
   "metadata": {},
   "outputs": [],
   "source": [
    "# export to csv\n",
    "prices.reset_index(level  = 0, inplace = True)\n",
    "prices.to_csv(r'C:\\Users\\carap\\OneDrive\\Desktop\\data\\sp500_hist.csv')"
   ]
  },
  {
   "cell_type": "code",
   "execution_count": 227,
   "metadata": {},
   "outputs": [],
   "source": [
    "# import and set index\n",
    "df = pd.read_csv(r'C:/Users/carap/OneDrive/Desktop/data/sp500_hist.csv')\n",
    "df.index = df.Date\n",
    "df = df.loc[:,\"A\":]"
   ]
  },
  {
   "cell_type": "code",
   "execution_count": 265,
   "metadata": {},
   "outputs": [],
   "source": [
    "s = df[[\"A\",\"MSFT\",\"AAPL\"]]"
   ]
  },
  {
   "cell_type": "code",
   "execution_count": null,
   "metadata": {},
   "outputs": [],
   "source": []
  }
 ],
 "metadata": {
  "kernelspec": {
   "display_name": "Python 3",
   "language": "python",
   "name": "python3"
  },
  "language_info": {
   "codemirror_mode": {
    "name": "ipython",
    "version": 3
   },
   "file_extension": ".py",
   "mimetype": "text/x-python",
   "name": "python",
   "nbconvert_exporter": "python",
   "pygments_lexer": "ipython3",
   "version": "3.7.3"
  }
 },
 "nbformat": 4,
 "nbformat_minor": 2
}
