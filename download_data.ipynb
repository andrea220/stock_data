{
 "cells": [
  {
   "cell_type": "code",
   "execution_count": 27,
   "metadata": {},
   "outputs": [],
   "source": [
    "import numpy as np\n",
    "import pandas as pd\n",
    "from datetime import datetime\n",
    "from concurrent import futures\n",
    "from pandas import DataFrame\n",
    "import pandas_datareader.data as web"
   ]
  },
  {
   "cell_type": "code",
   "execution_count": 2,
   "metadata": {},
   "outputs": [],
   "source": [
    "def download_stock(stock):\n",
    "    \"\"\" try to query the iex for a stock, if failed note with print \"\"\"\n",
    "    try:\n",
    "        stock_df = web.DataReader(stock,'yahoo', start_time, now_time)\n",
    "        stock_df['Name'] = stock\n",
    "        output = r\"C:\\Users\\carap\\OneDrive\\Desktop\\data\\query_stocks\\data_\"\n",
    "        out = output+ stock + \".csv\"\n",
    "        stock_df.to_csv(out)\n",
    "    except:\n",
    "        bad_names.append(stock)\n",
    "        print('bad: %s' % (stock))"
   ]
  },
  {
   "cell_type": "code",
   "execution_count": 3,
   "metadata": {},
   "outputs": [],
   "source": [
    "companies = pd.read_excel(\"sp500_symbols.xlsx\")\n",
    "symbols = list(companies.symbol)"
   ]
  },
  {
   "cell_type": "code",
   "execution_count": 6,
   "metadata": {},
   "outputs": [
    {
     "name": "stdout",
     "output_type": "stream",
     "text": [
      "The script took 0 minutes and 0 seconds to run.\n"
     ]
    }
   ],
   "source": [
    "now_time = datetime.now()\n",
    "start_time = datetime(now_time.year - 14, now_time.month, now_time.day)\n",
    "bad_names = []\n",
    "\n",
    "max_workers = 50\n",
    "workers = min(max_workers, len(symbols)) #in case a smaller number of stocks than threads was passed in\n",
    "with futures.ThreadPoolExecutor(workers) as executor:\n",
    "    res = executor.map(download_stock, symbols)\n",
    "    \n",
    "if len(bad_names) > 0:\n",
    "    with open('failed_queries.txt','w') as outfile:\n",
    "        for name in bad_names:\n",
    "            outfile.write(name+'\\n')\n",
    "finish_time = datetime.now()\n",
    "duration = finish_time - now_time\n",
    "minutes, seconds = divmod(duration.seconds, 60)\n",
    "print(f'The script took {minutes} minutes and {seconds} seconds to run.')"
   ]
  },
  {
   "cell_type": "code",
   "execution_count": null,
   "metadata": {},
   "outputs": [],
   "source": []
  }
 ],
 "metadata": {
  "kernelspec": {
   "display_name": "Python 3",
   "language": "python",
   "name": "python3"
  },
  "language_info": {
   "codemirror_mode": {
    "name": "ipython",
    "version": 3
   },
   "file_extension": ".py",
   "mimetype": "text/x-python",
   "name": "python",
   "nbconvert_exporter": "python",
   "pygments_lexer": "ipython3",
   "version": "3.7.3"
  }
 },
 "nbformat": 4,
 "nbformat_minor": 2
}
